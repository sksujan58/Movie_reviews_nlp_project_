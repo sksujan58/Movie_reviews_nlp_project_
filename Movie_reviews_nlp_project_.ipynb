{
 "cells": [
  {
   "cell_type": "code",
   "execution_count": 92,
   "metadata": {},
   "outputs": [],
   "source": [
    "import numpy as np\n",
    "import pandas as pd"
   ]
  },
  {
   "cell_type": "code",
   "execution_count": 93,
   "metadata": {},
   "outputs": [
    {
     "data": {
      "text/html": [
       "<div>\n",
       "<style scoped>\n",
       "    .dataframe tbody tr th:only-of-type {\n",
       "        vertical-align: middle;\n",
       "    }\n",
       "\n",
       "    .dataframe tbody tr th {\n",
       "        vertical-align: top;\n",
       "    }\n",
       "\n",
       "    .dataframe thead th {\n",
       "        text-align: right;\n",
       "    }\n",
       "</style>\n",
       "<table border=\"1\" class=\"dataframe\">\n",
       "  <thead>\n",
       "    <tr style=\"text-align: right;\">\n",
       "      <th></th>\n",
       "      <th>label</th>\n",
       "      <th>review</th>\n",
       "    </tr>\n",
       "  </thead>\n",
       "  <tbody>\n",
       "    <tr>\n",
       "      <th>0</th>\n",
       "      <td>neg</td>\n",
       "      <td>how do films like mouse hunt get into theatres...</td>\n",
       "    </tr>\n",
       "    <tr>\n",
       "      <th>1</th>\n",
       "      <td>neg</td>\n",
       "      <td>some talented actresses are blessed with a dem...</td>\n",
       "    </tr>\n",
       "    <tr>\n",
       "      <th>2</th>\n",
       "      <td>pos</td>\n",
       "      <td>this has been an extraordinary year for austra...</td>\n",
       "    </tr>\n",
       "    <tr>\n",
       "      <th>3</th>\n",
       "      <td>pos</td>\n",
       "      <td>according to hollywood movies made in last few...</td>\n",
       "    </tr>\n",
       "    <tr>\n",
       "      <th>4</th>\n",
       "      <td>neg</td>\n",
       "      <td>my first press screening of 1998 and already i...</td>\n",
       "    </tr>\n",
       "  </tbody>\n",
       "</table>\n",
       "</div>"
      ],
      "text/plain": [
       "  label                                             review\n",
       "0   neg  how do films like mouse hunt get into theatres...\n",
       "1   neg  some talented actresses are blessed with a dem...\n",
       "2   pos  this has been an extraordinary year for austra...\n",
       "3   pos  according to hollywood movies made in last few...\n",
       "4   neg  my first press screening of 1998 and already i..."
      ]
     },
     "execution_count": 93,
     "metadata": {},
     "output_type": "execute_result"
    }
   ],
   "source": [
    "df = pd.read_csv('../TextFiles/moviereviews.tsv', sep='\\t')\n",
    "df.head()"
   ]
  },
  {
   "cell_type": "code",
   "execution_count": 94,
   "metadata": {},
   "outputs": [
    {
     "data": {
      "text/plain": [
       "2000"
      ]
     },
     "execution_count": 94,
     "metadata": {},
     "output_type": "execute_result"
    }
   ],
   "source": [
    "len(df)"
   ]
  },
  {
   "cell_type": "code",
   "execution_count": 95,
   "metadata": {},
   "outputs": [
    {
     "data": {
      "text/plain": [
       "'pos'"
      ]
     },
     "execution_count": 95,
     "metadata": {},
     "output_type": "execute_result"
    }
   ],
   "source": [
    "df[\"label\"][600]"
   ]
  },
  {
   "cell_type": "code",
   "execution_count": 96,
   "metadata": {},
   "outputs": [
    {
     "data": {
      "text/plain": [
       "label      0\n",
       "review    35\n",
       "dtype: int64"
      ]
     },
     "execution_count": 96,
     "metadata": {},
     "output_type": "execute_result"
    }
   ],
   "source": [
    "df.isnull().sum()\n",
    "\n"
   ]
  },
  {
   "cell_type": "code",
   "execution_count": 97,
   "metadata": {},
   "outputs": [],
   "source": [
    "df.dropna(inplace=True)"
   ]
  },
  {
   "cell_type": "code",
   "execution_count": 98,
   "metadata": {},
   "outputs": [],
   "source": [
    "blanks=[]\n",
    "\n",
    "for i,lb,rv in df.itertuples():\n",
    "    if rv.isspace():\n",
    "        blanks.append(i)"
   ]
  },
  {
   "cell_type": "code",
   "execution_count": 99,
   "metadata": {},
   "outputs": [
    {
     "data": {
      "text/plain": [
       "[57,\n",
       " 71,\n",
       " 147,\n",
       " 151,\n",
       " 283,\n",
       " 307,\n",
       " 313,\n",
       " 323,\n",
       " 343,\n",
       " 351,\n",
       " 427,\n",
       " 501,\n",
       " 633,\n",
       " 675,\n",
       " 815,\n",
       " 851,\n",
       " 977,\n",
       " 1079,\n",
       " 1299,\n",
       " 1455,\n",
       " 1493,\n",
       " 1525,\n",
       " 1531,\n",
       " 1763,\n",
       " 1851,\n",
       " 1905,\n",
       " 1993]"
      ]
     },
     "execution_count": 99,
     "metadata": {},
     "output_type": "execute_result"
    }
   ],
   "source": [
    "blanks"
   ]
  },
  {
   "cell_type": "code",
   "execution_count": 100,
   "metadata": {},
   "outputs": [],
   "source": [
    "df.drop(blanks,inplace=True)"
   ]
  },
  {
   "cell_type": "code",
   "execution_count": 101,
   "metadata": {},
   "outputs": [
    {
     "data": {
      "text/plain": [
       "1938"
      ]
     },
     "execution_count": 101,
     "metadata": {},
     "output_type": "execute_result"
    }
   ],
   "source": [
    "len(df)"
   ]
  },
  {
   "cell_type": "code",
   "execution_count": 102,
   "metadata": {},
   "outputs": [],
   "source": [
    "df=df.reset_index(drop=True)"
   ]
  },
  {
   "cell_type": "code",
   "execution_count": 103,
   "metadata": {},
   "outputs": [],
   "source": [
    "from sklearn.model_selection import train_test_split"
   ]
  },
  {
   "cell_type": "code",
   "execution_count": 104,
   "metadata": {},
   "outputs": [],
   "source": [
    "from nltk.stem import WordNetLemmatizer\n",
    "lemmatizer=WordNetLemmatizer()"
   ]
  },
  {
   "cell_type": "code",
   "execution_count": 105,
   "metadata": {},
   "outputs": [
    {
     "data": {
      "text/plain": [
       "'how could a g rated disney film based on meg cabot s novel   the princess diaries   be anything but cute   harmless fun     easy     take all the cute   harmless fun out of it     and while you re at it make it borrr ring     that s what director garry marshall   screenwriter gina wendkos and   not to be outdone   producer whitney houston have done with the g rated disney film   the princess diaries       you couldn t tell it from the audience though   a braintree   mass   of growing   glowing pre pubescent girls   and the odd parental   popcorn perched about their persons     who positively cheered when the end credits rolled   ah the film had struck a lovely nerve with them but not with fuddy duddy old me       well   i might have cheered that the utter tripe was now well and truly over   but that would have been too obvious     too obvious is the least of the problems with marshall s film   garry made a couple of other   princess   movies     pretty woman   and   runaway bride     but this one s way without julia roberts so maybe   that s   its problem       in addition to being predictable as molasses     the princess diaries   has hardly got a laugh in it   it s a comedy     could bore the pants off an abyssinian for long   long stretches   and is so sloppily edited the principals refer to scenes we haven t even seen yet   and probably never will except   perhaps   in the dvd edition       marshall should take virtually all of the blame here   since he s been at this for some time and should know when a scene or two isn t working         and hardly   any   of   the princess diaries   works     works     alas   implies cleverness and there s none of that here either       newcomer anne hathaway stars as mia thermopolis   a bright but socially invisible san franciscan teen who learns that her single mom   a wacky artist played by the likable caroline goodall   had a bit of a fling with some royal member of some miniscule european country nobody ever heard of   the filmmakers go out of their way   not   to call it serbia   which is pretty much what all miniscule european countries are called in the movies mark my words   and now she   mia   is next in line to rule   genovia     hence the headphones tiara combo in the print ads       julie andrews   with the luminous factor cranked to      plays mia s grandmother   aka queen clarisse renaldi     who shows up out of the royal blue and lends mia much advice and direction in the eating   talking   and looking like a princess department   although mia s big makeover simply transforms her from ugly duckling to ugly swan       does queen julie lose her dignity for the sake of a good laugh     not really     consuming a corn dog is about the worst that it gets     also on stereotypical hand are a brainless jock   an evil cheerleader   a dorky looking best friend     welcome to the dollhouse    s heather matarazzo     a sensitive auto mechanic musician   and marshall mainstay hector elizondo as joe the driver   imparting wit and wisdom from the front seat of mia s chauffeur driven limousine at every intersection     a non animated g rated movie is a rarity these days but the rating here reflects the fact that all the guts   all the good stuff   has been exorcised from the finished product     lame   labored   and lamentable     the princess diaries   is recommended for eight and a half year olds of the feminine persuasion   only     all others would do well to avoid it   like potholes   the plague   and   the perfect storm         '"
      ]
     },
     "execution_count": 105,
     "metadata": {},
     "output_type": "execute_result"
    }
   ],
   "source": [
    "re.sub('[^a-zA-Z]', ' ', df[\"review\"][57])"
   ]
  },
  {
   "cell_type": "code",
   "execution_count": 106,
   "metadata": {},
   "outputs": [],
   "source": [
    "\n",
    "import re\n",
    "corpus=[]\n",
    "for i in range(len(df)):\n",
    "    review = re.sub('[^a-zA-Z]', ' ', df[\"review\"][i])\n",
    "    review = review.lower()\n",
    "    review = review.split()\n",
    "    review = [lemmatizer.lemmatize(word) for word in review]\n",
    "    review = ' '.join(review)\n",
    "    corpus.append(review)"
   ]
  },
  {
   "cell_type": "code",
   "execution_count": 107,
   "metadata": {},
   "outputs": [],
   "source": [
    "corpus=np.array(corpus)"
   ]
  },
  {
   "cell_type": "code",
   "execution_count": 108,
   "metadata": {},
   "outputs": [],
   "source": [
    "X_train,X_test,y_train,y_test=train_test_split(corpus,df[\"label\"],test_size=0.3,random_state=42)"
   ]
  },
  {
   "cell_type": "code",
   "execution_count": 109,
   "metadata": {},
   "outputs": [],
   "source": [
    "from sklearn.pipeline import Pipeline"
   ]
  },
  {
   "cell_type": "code",
   "execution_count": 110,
   "metadata": {},
   "outputs": [],
   "source": [
    "from sklearn.feature_extraction.text import TfidfVectorizer ,ENGLISH_STOP_WORDS"
   ]
  },
  {
   "cell_type": "code",
   "execution_count": 111,
   "metadata": {},
   "outputs": [],
   "source": [
    "from sklearn.svm import LinearSVC"
   ]
  },
  {
   "cell_type": "code",
   "execution_count": 112,
   "metadata": {},
   "outputs": [],
   "source": [
    "slides=[(\"tfidf\",TfidfVectorizer(stop_words=ENGLISH_STOP_WORDS)),(\"model\",LinearSVC())]"
   ]
  },
  {
   "cell_type": "code",
   "execution_count": 113,
   "metadata": {},
   "outputs": [],
   "source": [
    "pipe=Pipeline(slides)"
   ]
  },
  {
   "cell_type": "code",
   "execution_count": 114,
   "metadata": {},
   "outputs": [
    {
     "data": {
      "text/plain": [
       "Pipeline(memory=None,\n",
       "     steps=[('tfidf', TfidfVectorizer(analyzer='word', binary=False, decode_error='strict',\n",
       "        dtype=<class 'numpy.float64'>, encoding='utf-8', input='content',\n",
       "        lowercase=True, max_df=1.0, max_features=None, min_df=1,\n",
       "        ngram_range=(1, 1), norm='l2', preprocessor=None, smooth_idf=True,...ax_iter=1000,\n",
       "     multi_class='ovr', penalty='l2', random_state=None, tol=0.0001,\n",
       "     verbose=0))])"
      ]
     },
     "execution_count": 114,
     "metadata": {},
     "output_type": "execute_result"
    }
   ],
   "source": [
    "pipe.fit(X_train,y_train)"
   ]
  },
  {
   "cell_type": "code",
   "execution_count": 115,
   "metadata": {},
   "outputs": [],
   "source": [
    "prediction=pipe.predict(X_test)"
   ]
  },
  {
   "cell_type": "code",
   "execution_count": 116,
   "metadata": {},
   "outputs": [],
   "source": [
    "from sklearn.metrics import classification_report ,confusion_matrix ,accuracy_score"
   ]
  },
  {
   "cell_type": "code",
   "execution_count": 117,
   "metadata": {},
   "outputs": [
    {
     "data": {
      "text/plain": [
       "array([[223,  59],\n",
       "       [ 47, 253]], dtype=int64)"
      ]
     },
     "execution_count": 117,
     "metadata": {},
     "output_type": "execute_result"
    }
   ],
   "source": [
    "confusion_matrix(y_test,prediction)"
   ]
  },
  {
   "cell_type": "code",
   "execution_count": 118,
   "metadata": {},
   "outputs": [
    {
     "name": "stdout",
     "output_type": "stream",
     "text": [
      "              precision    recall  f1-score   support\n",
      "\n",
      "         neg       0.83      0.79      0.81       282\n",
      "         pos       0.81      0.84      0.83       300\n",
      "\n",
      "   micro avg       0.82      0.82      0.82       582\n",
      "   macro avg       0.82      0.82      0.82       582\n",
      "weighted avg       0.82      0.82      0.82       582\n",
      "\n"
     ]
    }
   ],
   "source": [
    "print(classification_report(y_test,prediction))"
   ]
  },
  {
   "cell_type": "code",
   "execution_count": 119,
   "metadata": {},
   "outputs": [
    {
     "data": {
      "text/plain": [
       "0.8178694158075601"
      ]
     },
     "execution_count": 119,
     "metadata": {},
     "output_type": "execute_result"
    }
   ],
   "source": [
    "accuracy_score(y_test,prediction)"
   ]
  },
  {
   "cell_type": "code",
   "execution_count": 120,
   "metadata": {},
   "outputs": [
    {
     "data": {
      "text/plain": [
       "array(['neg'], dtype=object)"
      ]
     },
     "execution_count": 120,
     "metadata": {},
     "output_type": "execute_result"
    }
   ],
   "source": [
    "pipe.predict([X_test[4]])"
   ]
  },
  {
   "cell_type": "code",
   "execution_count": 121,
   "metadata": {},
   "outputs": [],
   "source": [
    "y_test_l=list(y_test)"
   ]
  },
  {
   "cell_type": "code",
   "execution_count": 122,
   "metadata": {},
   "outputs": [
    {
     "data": {
      "text/plain": [
       "'neg'"
      ]
     },
     "execution_count": 122,
     "metadata": {},
     "output_type": "execute_result"
    }
   ],
   "source": [
    "y_test_l[4]"
   ]
  },
  {
   "cell_type": "code",
   "execution_count": 123,
   "metadata": {},
   "outputs": [
    {
     "data": {
      "text/plain": [
       "array(['neg'], dtype=object)"
      ]
     },
     "execution_count": 123,
     "metadata": {},
     "output_type": "execute_result"
    }
   ],
   "source": [
    "pipe.predict([\"\"\" the happy bastard's quick movie review \n",
    "damn that y2k bug . \n",
    "it's got a head start in this movie starring jamie lee curtis and another baldwin brother ( william this time ) in a story regarding a crew of a tugboat that comes across a deserted russian tech ship that has a strangeness to it when they kick the power back on . \n",
    "little do they know the power within . . . \n",
    "going for the gore and bringing on a few action sequences here and there , virus still feels very empty , like a movie going for all flash and no substance . \n",
    "we don't know why the crew was really out in the middle of nowhere , we don't know the origin of what took over the ship ( just that a big pink flashy thing hit the mir ) , and , of course , we don't know why donald sutherland is stumbling around drunkenly throughout . \n",
    "here , it's just \" hey , let's chase these people around with some robots \" . \n",
    "the acting is below average , even from the likes of curtis . \n",
    "you're more likely to get a kick out of her work in halloween h20 . \n",
    "sutherland is wasted and baldwin , well , he's acting like a baldwin , of course . \n",
    "the real star here are stan winston's robot design , some schnazzy cgi , and the occasional good gore shot , like picking into someone's brain . \n",
    "so , if robots and body parts really turn you on , here's your movie . \n",
    "otherwise , it's pretty much a sunken ship of a movie . \"\"\"])"
   ]
  },
  {
   "cell_type": "code",
   "execution_count": 124,
   "metadata": {},
   "outputs": [
    {
     "data": {
      "text/plain": [
       "array(['pos'], dtype=object)"
      ]
     },
     "execution_count": 124,
     "metadata": {},
     "output_type": "execute_result"
    }
   ],
   "source": [
    "pipe.predict([\"\"\" on june 30 , 1960 , a self-taught , idealistic , yet pragmatic , young man became , at age 36 , the first head of government of a newly independent african state , formerly the belgian congo . \n",
    "two months later , he was ousted from his powerful position and hunted by government troops until he was captured and brutally murdered along with two aides . \n",
    "this little-known story of this meteoric rise and fall is told my international filmmaker raoul peck in \" lumumba . \" \n",
    "patrice lumumba's ( eriq ebouaney ) story has been told previously by helmer peck in his 1991 award winning documentary , \" lumumba - death of a prophet , \" virtually guaranteeing that his new , fictional account of a patriot remains true to its subject . \n",
    "peck , with co-writer pascal bonitzer , begins at the end of the story of the young political leader . \n",
    "we watch as two white men perform the gruesome task of dismembering the bodies of three black men . \n",
    "images of hatchets , saws and fast-emptying whiskey bottles accompany the grisly image . \n",
    "jump back a few years to a meeting among the black leaders in the belgian-owned congo . \n",
    "a third class postal worker , lumumba , speaks his mind to heads of the most powerful tribes , proclaiming himself not tribal , not regional , but a national leader . \n",
    "his small , mobile party , the congolese national movement ( mnc ) is gaining prominence and patrice leaves his clerical job to sell beer , and get his face known , in the bustling capital , stanleyville . \n",
    "at a time when the colonial empires are falling down around the world , lumumba is in the right place at the right time and , through political savvy and chess-like manipulation , achieves a position of leadership of the mnc . \n",
    "as the date for independence approaches , he tactically positions himself to be the new nation's first prime minister and defense minister , supporting the presidency of joseph kasa vubu ( maka kotto ) . \n",
    "the coalition he created soon starts to fall apart as the former belgian masters continue to exert influence on the struggling nation as they strive to maintain economic hold on the country's vast natural resources of copper , diamonds , gold and more . \n",
    "lumumba won't seek the help of the us , knowing that they would try to create de facto american control of the fledgling government . \n",
    "his initial investigation into soviet assistance immediately tags patrice as a communist and his integrity is overshadowed by the cold war threat of russian domination . \n",
    "the situation goes from bad to worse as the army mutinies , the remaining whites begin to evacuate or arm themselves , belgian troops violently intervene , the lucrative katanga province succeeds under the leadership of rival moise tschombe ( pascal nzonzi ) and lumumba is refused access to his own country when he returns from a conference abroad . \n",
    "this tumultuous and little known period of modern african history saw a score of nations struggling for independence from the sometimes-odious colonialists who have ruled much of the world from their european seats of power for centuries . \n",
    "peck focuses his story on familiar material that strives to give an honest portrayal of patrice lumumba , his friend and foes and the independence movements that gripped africa in the 50's and 60's . \n",
    " ( during the time the story takes place , many new nations , including nigeria and somalia , were born , with varying degrees of success and failure , usually dependent upon which country colonized them . \n",
    "some colonial masters were better than others . ) \n",
    "the effort involved in \" lumumba \" is quite ambitious as peck and his crew before and behind the camera strive to bring to life this slice of world history that might have gone unexplored for decades , if at all . \n",
    "production values are first rate on what must be a small , by us standards , budget . \n",
    "the period feel and realistic african settings are nicely maintained in a production that traveled from zimbabwe to mozambique . \n",
    "the screenplay covers a lot of ground and does yeoman's work in providing a great deal of detailed history while trying to do justice to the story of lumumba's life . \n",
    "the political side of things is evenly told in a linear , straightforward manner that teaches , not preaches . \n",
    "it concentrates on the good deeds of the man , if a bit as a stalwart saint , but doesn't embellish on a larger than life persona . \n",
    "the family side of patrice's life is handled in several , perfunctory and brief interludes that show him talking to one of his children , embracing his wife or lamenting the death of his child . \n",
    "i know the intent is to flesh the man out , but too short a shrift is given to the family man side of lumumba . \n",
    "the story , as such , has a lopsided feel about it . \n",
    "high marks go to eriq ebouaney as the title character . \n",
    "the actor gives a convincing , charismatic performance as the multifaceted , politically deft patrice lumumba who has the good of his people and his country as the force driving his own ambitions . \n",
    "in true docudrama tradition , the supporting cast does not outshine the star , complementing his good efforts , instead . \n",
    " \" lumumba \" is a solid , interesting , educational and honest docudrama that should appeal to film buffs and politicos , both . \n",
    "it has more intelligence in its telling than anything i've seen out of hollywood for months and i give it a b+ . \n",
    "\"\"\"])"
   ]
  },
  {
   "cell_type": "code",
   "execution_count": null,
   "metadata": {},
   "outputs": [],
   "source": []
  }
 ],
 "metadata": {
  "kernelspec": {
   "display_name": "Python 3",
   "language": "python",
   "name": "python3"
  },
  "language_info": {
   "codemirror_mode": {
    "name": "ipython",
    "version": 3
   },
   "file_extension": ".py",
   "mimetype": "text/x-python",
   "name": "python",
   "nbconvert_exporter": "python",
   "pygments_lexer": "ipython3",
   "version": "3.7.9"
  }
 },
 "nbformat": 4,
 "nbformat_minor": 4
}
